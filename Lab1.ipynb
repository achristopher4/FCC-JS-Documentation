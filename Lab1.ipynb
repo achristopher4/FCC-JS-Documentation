{
  "nbformat": 4,
  "nbformat_minor": 0,
  "metadata": {
    "colab": {
      "name": "Untitled0.ipynb",
      "provenance": [],
      "authorship_tag": "ABX9TyNahpac0Fm8zF0hf9mHPUDP",
      "include_colab_link": true
    },
    "kernelspec": {
      "name": "python3",
      "display_name": "Python 3"
    }
  },
  "cells": [
    {
      "cell_type": "markdown",
      "metadata": {
        "id": "view-in-github",
        "colab_type": "text"
      },
      "source": [
        "<a href=\"https://colab.research.google.com/github/achristopher4/FCC-JS-Documentation/blob/master/Lab1.ipynb\" target=\"_parent\"><img src=\"https://colab.research.google.com/assets/colab-badge.svg\" alt=\"Open In Colab\"/></a>"
      ]
    },
    {
      "cell_type": "markdown",
      "metadata": {
        "id": "5w7frpCpHRKN",
        "colab_type": "text"
      },
      "source": [
        "### Alex Christopher \n",
        "### Web Development, App Development, and Graphic Design\n",
        "### Financial, Web Development, App Development"
      ]
    },
    {
      "cell_type": "markdown",
      "metadata": {
        "id": "KEaatNmAHbw1",
        "colab_type": "text"
      },
      "source": [
        "![alt text]()"
      ]
    }
  ]
}